{
 "cells": [
  {
   "cell_type": "markdown",
   "metadata": {},
   "source": [
    "# Pandas AI"
   ]
  },
  {
   "cell_type": "code",
   "execution_count": 1,
   "metadata": {},
   "outputs": [],
   "source": [
    "import pandas as pd\n",
    "from pandasai import SmartDataframe\n",
    "from pandasai.llm.openai import OpenAI"
   ]
  },
  {
   "cell_type": "markdown",
   "metadata": {},
   "source": [
    "### Create dataset"
   ]
  },
  {
   "cell_type": "code",
   "execution_count": 2,
   "metadata": {},
   "outputs": [
    {
     "data": {
      "text/html": [
       "<div>\n",
       "<style scoped>\n",
       "    .dataframe tbody tr th:only-of-type {\n",
       "        vertical-align: middle;\n",
       "    }\n",
       "\n",
       "    .dataframe tbody tr th {\n",
       "        vertical-align: top;\n",
       "    }\n",
       "\n",
       "    .dataframe thead th {\n",
       "        text-align: right;\n",
       "    }\n",
       "</style>\n",
       "<table border=\"1\" class=\"dataframe\">\n",
       "  <thead>\n",
       "    <tr style=\"text-align: right;\">\n",
       "      <th></th>\n",
       "      <th>country</th>\n",
       "      <th>gdp</th>\n",
       "      <th>happiness_index</th>\n",
       "    </tr>\n",
       "  </thead>\n",
       "  <tbody>\n",
       "    <tr>\n",
       "      <th>0</th>\n",
       "      <td>United States</td>\n",
       "      <td>19294482071552</td>\n",
       "      <td>6.94</td>\n",
       "    </tr>\n",
       "    <tr>\n",
       "      <th>1</th>\n",
       "      <td>United Kingdom</td>\n",
       "      <td>2891615567872</td>\n",
       "      <td>7.16</td>\n",
       "    </tr>\n",
       "    <tr>\n",
       "      <th>2</th>\n",
       "      <td>France</td>\n",
       "      <td>2411255037952</td>\n",
       "      <td>6.66</td>\n",
       "    </tr>\n",
       "    <tr>\n",
       "      <th>3</th>\n",
       "      <td>Germany</td>\n",
       "      <td>3435817336832</td>\n",
       "      <td>7.07</td>\n",
       "    </tr>\n",
       "    <tr>\n",
       "      <th>4</th>\n",
       "      <td>Italy</td>\n",
       "      <td>1745433788416</td>\n",
       "      <td>6.38</td>\n",
       "    </tr>\n",
       "    <tr>\n",
       "      <th>5</th>\n",
       "      <td>Spain</td>\n",
       "      <td>1181205135360</td>\n",
       "      <td>6.40</td>\n",
       "    </tr>\n",
       "    <tr>\n",
       "      <th>6</th>\n",
       "      <td>Canada</td>\n",
       "      <td>1607402389504</td>\n",
       "      <td>7.23</td>\n",
       "    </tr>\n",
       "    <tr>\n",
       "      <th>7</th>\n",
       "      <td>Australia</td>\n",
       "      <td>1490967855104</td>\n",
       "      <td>7.22</td>\n",
       "    </tr>\n",
       "    <tr>\n",
       "      <th>8</th>\n",
       "      <td>Japan</td>\n",
       "      <td>4380756541440</td>\n",
       "      <td>5.87</td>\n",
       "    </tr>\n",
       "    <tr>\n",
       "      <th>9</th>\n",
       "      <td>China</td>\n",
       "      <td>14631844184064</td>\n",
       "      <td>5.12</td>\n",
       "    </tr>\n",
       "  </tbody>\n",
       "</table>\n",
       "</div>"
      ],
      "text/plain": [
       "          country             gdp  happiness_index\n",
       "0   United States  19294482071552             6.94\n",
       "1  United Kingdom   2891615567872             7.16\n",
       "2          France   2411255037952             6.66\n",
       "3         Germany   3435817336832             7.07\n",
       "4           Italy   1745433788416             6.38\n",
       "5           Spain   1181205135360             6.40\n",
       "6          Canada   1607402389504             7.23\n",
       "7       Australia   1490967855104             7.22\n",
       "8           Japan   4380756541440             5.87\n",
       "9           China  14631844184064             5.12"
      ]
     },
     "execution_count": 2,
     "metadata": {},
     "output_type": "execute_result"
    }
   ],
   "source": [
    "df = pd.DataFrame({\n",
    "    \"country\": [\"United States\", \"United Kingdom\", \"France\", \"Germany\", \"Italy\", \"Spain\", \"Canada\", \"Australia\", \"Japan\", \"China\"],\n",
    "    \"gdp\": [19294482071552, 2891615567872, 2411255037952, 3435817336832, 1745433788416, 1181205135360, 1607402389504, 1490967855104, 4380756541440, 14631844184064],\n",
    "    \"happiness_index\": [6.94, 7.16, 6.66, 7.07, 6.38, 6.4, 7.23, 7.22, 5.87, 5.12]\n",
    "})\n",
    "\n",
    "df"
   ]
  },
  {
   "cell_type": "markdown",
   "metadata": {},
   "source": [
    "### Run LLM\n",
    "\n",
    "* Prompt for API key (not hard-coded here for security)"
   ]
  },
  {
   "cell_type": "code",
   "execution_count": 3,
   "metadata": {},
   "outputs": [
    {
     "name": "stderr",
     "output_type": "stream",
     "text": [
      "Could not load configuration\n",
      "Traceback (most recent call last):\n",
      "  File \"/home/codespace/.python/current/lib/python3.10/site-packages/pandasai/config.py\", line 19, in load_config\n",
      "    with open(find_closest(\"pandasai.json\"), \"r\") as f:\n",
      "  File \"/home/codespace/.python/current/lib/python3.10/site-packages/pandasai/helpers/path.py\", line 37, in find_closest\n",
      "    return os.path.join(find_project_root(filename), filename)\n",
      "  File \"/home/codespace/.python/current/lib/python3.10/site-packages/pandasai/helpers/path.py\", line 29, in find_project_root\n",
      "    raise ValueError(\"Could not find the root folder of the project.\")\n",
      "ValueError: Could not find the root folder of the project.\n"
     ]
    },
    {
     "ename": "error",
     "evalue": "[Errno 11] Resource temporarily unavailable: '/workspaces/Pandas_AI/cache/cache'",
     "output_type": "error",
     "traceback": [
      "\u001b[0;31m---------------------------------------------------------------------------\u001b[0m",
      "\u001b[0;31merror\u001b[0m                                     Traceback (most recent call last)",
      "Cell \u001b[0;32mIn[3], line 7\u001b[0m\n\u001b[1;32m      4\u001b[0m df \u001b[39m=\u001b[39m SmartDataframe(df, config\u001b[39m=\u001b[39m{\u001b[39m\"\u001b[39m\u001b[39mllm\u001b[39m\u001b[39m\"\u001b[39m: llm})\n\u001b[1;32m      6\u001b[0m \u001b[39m# Ask a question\u001b[39;00m\n\u001b[0;32m----> 7\u001b[0m df\u001b[39m.\u001b[39;49mchat(\u001b[39m'\u001b[39;49m\u001b[39mWhich are the 5 happiest countries?\u001b[39;49m\u001b[39m'\u001b[39;49m)\n",
      "File \u001b[0;32m~/.python/current/lib/python3.10/site-packages/pandasai/smart_dataframe/__init__.py:200\u001b[0m, in \u001b[0;36mSmartDataframe.chat\u001b[0;34m(self, query)\u001b[0m\n\u001b[1;32m    190\u001b[0m \u001b[39mdef\u001b[39;00m \u001b[39mchat\u001b[39m(\u001b[39mself\u001b[39m, query: \u001b[39mstr\u001b[39m):\n\u001b[1;32m    191\u001b[0m \u001b[39m    \u001b[39m\u001b[39m\"\"\"\u001b[39;00m\n\u001b[1;32m    192\u001b[0m \u001b[39m    Run a query on the dataframe.\u001b[39;00m\n\u001b[1;32m    193\u001b[0m \n\u001b[0;32m   (...)\u001b[0m\n\u001b[1;32m    198\u001b[0m \u001b[39m        ValueError: If the query is empty\u001b[39;00m\n\u001b[1;32m    199\u001b[0m \u001b[39m    \"\"\"\u001b[39;00m\n\u001b[0;32m--> 200\u001b[0m     \u001b[39mreturn\u001b[39;00m \u001b[39mself\u001b[39;49m\u001b[39m.\u001b[39;49m_dl\u001b[39m.\u001b[39;49mchat(query)\n",
      "File \u001b[0;32m~/.python/current/lib/python3.10/site-packages/pandasai/smart_datalake/__init__.py:338\u001b[0m, in \u001b[0;36mSmartDatalake.chat\u001b[0;34m(self, query)\u001b[0m\n\u001b[1;32m    334\u001b[0m \u001b[39mself\u001b[39m\u001b[39m.\u001b[39m_logger\u001b[39m.\u001b[39mlog(\u001b[39mf\u001b[39m\u001b[39m\"\u001b[39m\u001b[39mExecuted in: \u001b[39m\u001b[39m{\u001b[39;00mtime\u001b[39m.\u001b[39mtime()\u001b[39m \u001b[39m\u001b[39m-\u001b[39m\u001b[39m \u001b[39m\u001b[39mself\u001b[39m\u001b[39m.\u001b[39m_start_time\u001b[39m}\u001b[39;00m\u001b[39ms\u001b[39m\u001b[39m\"\u001b[39m)\n\u001b[1;32m    336\u001b[0m \u001b[39mself\u001b[39m\u001b[39m.\u001b[39m_add_result_to_memory(result)\n\u001b[0;32m--> 338\u001b[0m \u001b[39mreturn\u001b[39;00m \u001b[39mself\u001b[39;49m\u001b[39m.\u001b[39;49m_format_results(result)\n",
      "File \u001b[0;32m~/.python/current/lib/python3.10/site-packages/pandasai/smart_datalake/__init__.py:365\u001b[0m, in \u001b[0;36mSmartDatalake._format_results\u001b[0;34m(self, result)\u001b[0m\n\u001b[1;32m    361\u001b[0m             \u001b[39mimport\u001b[39;00m \u001b[39mpolars\u001b[39;00m \u001b[39mas\u001b[39;00m \u001b[39mpl\u001b[39;00m\n\u001b[1;32m    363\u001b[0m             df \u001b[39m=\u001b[39m pl\u001b[39m.\u001b[39mfrom_pandas(df)\n\u001b[0;32m--> 365\u001b[0m     \u001b[39mreturn\u001b[39;00m SmartDataframe(\n\u001b[1;32m    366\u001b[0m         df,\n\u001b[1;32m    367\u001b[0m         config\u001b[39m=\u001b[39;49m\u001b[39mself\u001b[39;49m\u001b[39m.\u001b[39;49m_config\u001b[39m.\u001b[39;49m\u001b[39m__dict__\u001b[39;49m,\n\u001b[1;32m    368\u001b[0m         logger\u001b[39m=\u001b[39;49m\u001b[39mself\u001b[39;49m\u001b[39m.\u001b[39;49m_logger,\n\u001b[1;32m    369\u001b[0m     )\n\u001b[1;32m    370\u001b[0m \u001b[39melif\u001b[39;00m result[\u001b[39m\"\u001b[39m\u001b[39mtype\u001b[39m\u001b[39m\"\u001b[39m] \u001b[39m==\u001b[39m \u001b[39m\"\u001b[39m\u001b[39mplot\u001b[39m\u001b[39m\"\u001b[39m:\n\u001b[1;32m    371\u001b[0m     \u001b[39mimport\u001b[39;00m \u001b[39mmatplotlib\u001b[39;00m\u001b[39m.\u001b[39;00m\u001b[39mpyplot\u001b[39;00m \u001b[39mas\u001b[39;00m \u001b[39mplt\u001b[39;00m\n",
      "File \u001b[0;32m~/.python/current/lib/python3.10/site-packages/pandasai/smart_dataframe/__init__.py:79\u001b[0m, in \u001b[0;36mSmartDataframe.__init__\u001b[0;34m(self, df, name, description, config, sample_head, logger)\u001b[0m\n\u001b[1;32m     75\u001b[0m \u001b[39mself\u001b[39m\u001b[39m.\u001b[39m_load_df(df)\n\u001b[1;32m     77\u001b[0m \u001b[39mself\u001b[39m\u001b[39m.\u001b[39m_load_engine()\n\u001b[0;32m---> 79\u001b[0m \u001b[39mself\u001b[39m\u001b[39m.\u001b[39m_dl \u001b[39m=\u001b[39m SmartDatalake([\u001b[39mself\u001b[39;49m], config\u001b[39m=\u001b[39;49mconfig, logger\u001b[39m=\u001b[39;49mlogger)\n\u001b[1;32m     81\u001b[0m \u001b[39mif\u001b[39;00m sample_head \u001b[39mis\u001b[39;00m \u001b[39mnot\u001b[39;00m \u001b[39mNone\u001b[39;00m:\n\u001b[1;32m     82\u001b[0m     \u001b[39mself\u001b[39m\u001b[39m.\u001b[39m_sample_head \u001b[39m=\u001b[39m sample_head\u001b[39m.\u001b[39mto_csv(index\u001b[39m=\u001b[39m\u001b[39mFalse\u001b[39;00m)\n",
      "File \u001b[0;32m~/.python/current/lib/python3.10/site-packages/pandasai/smart_datalake/__init__.py:99\u001b[0m, in \u001b[0;36mSmartDatalake.__init__\u001b[0;34m(self, dfs, config, logger, memory)\u001b[0m\n\u001b[1;32m     92\u001b[0m \u001b[39mself\u001b[39m\u001b[39m.\u001b[39m_code_manager \u001b[39m=\u001b[39m CodeManager(\n\u001b[1;32m     93\u001b[0m     dfs\u001b[39m=\u001b[39m\u001b[39mself\u001b[39m\u001b[39m.\u001b[39m_dfs,\n\u001b[1;32m     94\u001b[0m     config\u001b[39m=\u001b[39m\u001b[39mself\u001b[39m\u001b[39m.\u001b[39m_config,\n\u001b[1;32m     95\u001b[0m     logger\u001b[39m=\u001b[39m\u001b[39mself\u001b[39m\u001b[39m.\u001b[39m_logger,\n\u001b[1;32m     96\u001b[0m )\n\u001b[1;32m     98\u001b[0m \u001b[39mif\u001b[39;00m \u001b[39mself\u001b[39m\u001b[39m.\u001b[39m_config\u001b[39m.\u001b[39menable_cache:\n\u001b[0;32m---> 99\u001b[0m     \u001b[39mself\u001b[39m\u001b[39m.\u001b[39m_cache \u001b[39m=\u001b[39m Cache()\n",
      "File \u001b[0;32m~/.python/current/lib/python3.10/site-packages/pandasai/helpers/cache.py:26\u001b[0m, in \u001b[0;36mCache.__init__\u001b[0;34m(self, filename)\u001b[0m\n\u001b[1;32m     23\u001b[0m os\u001b[39m.\u001b[39mmakedirs(cache_dir, mode\u001b[39m=\u001b[39m\u001b[39m0o777\u001b[39m, exist_ok\u001b[39m=\u001b[39m\u001b[39mTrue\u001b[39;00m)\n\u001b[1;32m     25\u001b[0m \u001b[39mself\u001b[39m\u001b[39m.\u001b[39mfilepath \u001b[39m=\u001b[39m os\u001b[39m.\u001b[39mpath\u001b[39m.\u001b[39mjoin(cache_dir, filename)\n\u001b[0;32m---> 26\u001b[0m \u001b[39mself\u001b[39m\u001b[39m.\u001b[39mcache \u001b[39m=\u001b[39m shelve\u001b[39m.\u001b[39;49mopen(\u001b[39mself\u001b[39;49m\u001b[39m.\u001b[39;49mfilepath)\n",
      "File \u001b[0;32m~/.python/current/lib/python3.10/shelve.py:243\u001b[0m, in \u001b[0;36mopen\u001b[0;34m(filename, flag, protocol, writeback)\u001b[0m\n\u001b[1;32m    230\u001b[0m \u001b[39mdef\u001b[39;00m \u001b[39mopen\u001b[39m(filename, flag\u001b[39m=\u001b[39m\u001b[39m'\u001b[39m\u001b[39mc\u001b[39m\u001b[39m'\u001b[39m, protocol\u001b[39m=\u001b[39m\u001b[39mNone\u001b[39;00m, writeback\u001b[39m=\u001b[39m\u001b[39mFalse\u001b[39;00m):\n\u001b[1;32m    231\u001b[0m \u001b[39m    \u001b[39m\u001b[39m\"\"\"Open a persistent dictionary for reading and writing.\u001b[39;00m\n\u001b[1;32m    232\u001b[0m \n\u001b[1;32m    233\u001b[0m \u001b[39m    The filename parameter is the base filename for the underlying\u001b[39;00m\n\u001b[0;32m   (...)\u001b[0m\n\u001b[1;32m    240\u001b[0m \u001b[39m    See the module's __doc__ string for an overview of the interface.\u001b[39;00m\n\u001b[1;32m    241\u001b[0m \u001b[39m    \"\"\"\u001b[39;00m\n\u001b[0;32m--> 243\u001b[0m     \u001b[39mreturn\u001b[39;00m DbfilenameShelf(filename, flag, protocol, writeback)\n",
      "File \u001b[0;32m~/.python/current/lib/python3.10/shelve.py:227\u001b[0m, in \u001b[0;36mDbfilenameShelf.__init__\u001b[0;34m(self, filename, flag, protocol, writeback)\u001b[0m\n\u001b[1;32m    225\u001b[0m \u001b[39mdef\u001b[39;00m \u001b[39m__init__\u001b[39m(\u001b[39mself\u001b[39m, filename, flag\u001b[39m=\u001b[39m\u001b[39m'\u001b[39m\u001b[39mc\u001b[39m\u001b[39m'\u001b[39m, protocol\u001b[39m=\u001b[39m\u001b[39mNone\u001b[39;00m, writeback\u001b[39m=\u001b[39m\u001b[39mFalse\u001b[39;00m):\n\u001b[1;32m    226\u001b[0m     \u001b[39mimport\u001b[39;00m \u001b[39mdbm\u001b[39;00m\n\u001b[0;32m--> 227\u001b[0m     Shelf\u001b[39m.\u001b[39m\u001b[39m__init__\u001b[39m(\u001b[39mself\u001b[39m, dbm\u001b[39m.\u001b[39;49mopen(filename, flag), protocol, writeback)\n",
      "File \u001b[0;32m~/.python/current/lib/python3.10/dbm/__init__.py:95\u001b[0m, in \u001b[0;36mopen\u001b[0;34m(file, flag, mode)\u001b[0m\n\u001b[1;32m     93\u001b[0m \u001b[39melse\u001b[39;00m:\n\u001b[1;32m     94\u001b[0m     mod \u001b[39m=\u001b[39m _modules[result]\n\u001b[0;32m---> 95\u001b[0m \u001b[39mreturn\u001b[39;00m mod\u001b[39m.\u001b[39;49mopen(file, flag, mode)\n",
      "\u001b[0;31merror\u001b[0m: [Errno 11] Resource temporarily unavailable: '/workspaces/Pandas_AI/cache/cache'"
     ]
    }
   ],
   "source": [
    "# Set up LLM\n",
    "OPENAI_API_KEY = input(\"Please enter your Open API key: \")\n",
    "llm = OpenAI(api_token=OPENAI_API_KEY)\n",
    "df = SmartDataframe(df, config={\"llm\": llm})\n",
    "\n",
    "# Ask a question\n",
    "df.chat('Which are the 5 happiest countries?')"
   ]
  },
  {
   "cell_type": "code",
   "execution_count": null,
   "metadata": {},
   "outputs": [],
   "source": []
  }
 ],
 "metadata": {
  "kernelspec": {
   "display_name": "Python 3",
   "language": "python",
   "name": "python3"
  },
  "language_info": {
   "codemirror_mode": {
    "name": "ipython",
    "version": 3
   },
   "file_extension": ".py",
   "mimetype": "text/x-python",
   "name": "python",
   "nbconvert_exporter": "python",
   "pygments_lexer": "ipython3",
   "version": "3.10.8"
  },
  "orig_nbformat": 4
 },
 "nbformat": 4,
 "nbformat_minor": 2
}
