{
 "cells": [
  {
   "cell_type": "markdown",
   "metadata": {},
   "source": [
    "# Pandas AI"
   ]
  },
  {
   "cell_type": "code",
   "execution_count": 1,
   "metadata": {},
   "outputs": [],
   "source": [
    "import pandas as pd\n",
    "from pandasai import PandasAI\n",
    "from pandasai.llm.openai import OpenAI"
   ]
  },
  {
   "cell_type": "markdown",
   "metadata": {},
   "source": [
    "### Create dataset"
   ]
  },
  {
   "cell_type": "code",
   "execution_count": 2,
   "metadata": {},
   "outputs": [],
   "source": [
    "df = pd.DataFrame({\n",
    "    \"country\": [\"United States\", \"United Kingdom\", \"France\", \"Germany\", \"Italy\", \"Spain\", \"Canada\", \"Australia\", \"Japan\", \"China\"],\n",
    "    \"gdp\": [21400000, 2940000, 2830000, 3870000, 2160000, 1350000, 1780000, 1320000, 516000, 14000000],\n",
    "    \"happiness_index\": [7.3, 7.2, 6.5, 7.0, 6.0, 6.3, 7.3, 7.3, 5.9, 5.0]\n",
    "})"
   ]
  },
  {
   "cell_type": "code",
   "execution_count": 3,
   "metadata": {},
   "outputs": [
    {
     "data": {
      "text/html": [
       "<div>\n",
       "<style scoped>\n",
       "    .dataframe tbody tr th:only-of-type {\n",
       "        vertical-align: middle;\n",
       "    }\n",
       "\n",
       "    .dataframe tbody tr th {\n",
       "        vertical-align: top;\n",
       "    }\n",
       "\n",
       "    .dataframe thead th {\n",
       "        text-align: right;\n",
       "    }\n",
       "</style>\n",
       "<table border=\"1\" class=\"dataframe\">\n",
       "  <thead>\n",
       "    <tr style=\"text-align: right;\">\n",
       "      <th></th>\n",
       "      <th>country</th>\n",
       "      <th>gdp</th>\n",
       "      <th>happiness_index</th>\n",
       "    </tr>\n",
       "  </thead>\n",
       "  <tbody>\n",
       "    <tr>\n",
       "      <th>0</th>\n",
       "      <td>United States</td>\n",
       "      <td>21400000</td>\n",
       "      <td>7.3</td>\n",
       "    </tr>\n",
       "    <tr>\n",
       "      <th>1</th>\n",
       "      <td>United Kingdom</td>\n",
       "      <td>2940000</td>\n",
       "      <td>7.2</td>\n",
       "    </tr>\n",
       "    <tr>\n",
       "      <th>2</th>\n",
       "      <td>France</td>\n",
       "      <td>2830000</td>\n",
       "      <td>6.5</td>\n",
       "    </tr>\n",
       "    <tr>\n",
       "      <th>3</th>\n",
       "      <td>Germany</td>\n",
       "      <td>3870000</td>\n",
       "      <td>7.0</td>\n",
       "    </tr>\n",
       "    <tr>\n",
       "      <th>4</th>\n",
       "      <td>Italy</td>\n",
       "      <td>2160000</td>\n",
       "      <td>6.0</td>\n",
       "    </tr>\n",
       "    <tr>\n",
       "      <th>5</th>\n",
       "      <td>Spain</td>\n",
       "      <td>1350000</td>\n",
       "      <td>6.3</td>\n",
       "    </tr>\n",
       "    <tr>\n",
       "      <th>6</th>\n",
       "      <td>Canada</td>\n",
       "      <td>1780000</td>\n",
       "      <td>7.3</td>\n",
       "    </tr>\n",
       "    <tr>\n",
       "      <th>7</th>\n",
       "      <td>Australia</td>\n",
       "      <td>1320000</td>\n",
       "      <td>7.3</td>\n",
       "    </tr>\n",
       "    <tr>\n",
       "      <th>8</th>\n",
       "      <td>Japan</td>\n",
       "      <td>516000</td>\n",
       "      <td>5.9</td>\n",
       "    </tr>\n",
       "    <tr>\n",
       "      <th>9</th>\n",
       "      <td>China</td>\n",
       "      <td>14000000</td>\n",
       "      <td>5.0</td>\n",
       "    </tr>\n",
       "  </tbody>\n",
       "</table>\n",
       "</div>"
      ],
      "text/plain": [
       "          country       gdp  happiness_index\n",
       "0   United States  21400000              7.3\n",
       "1  United Kingdom   2940000              7.2\n",
       "2          France   2830000              6.5\n",
       "3         Germany   3870000              7.0\n",
       "4           Italy   2160000              6.0\n",
       "5           Spain   1350000              6.3\n",
       "6          Canada   1780000              7.3\n",
       "7       Australia   1320000              7.3\n",
       "8           Japan    516000              5.9\n",
       "9           China  14000000              5.0"
      ]
     },
     "execution_count": 3,
     "metadata": {},
     "output_type": "execute_result"
    }
   ],
   "source": [
    "df"
   ]
  },
  {
   "cell_type": "markdown",
   "metadata": {},
   "source": [
    "### Run LLM\n",
    "\n",
    "* Prompt for API key (not hard-coded here for security)"
   ]
  },
  {
   "cell_type": "code",
   "execution_count": 4,
   "metadata": {},
   "outputs": [
    {
     "name": "stderr",
     "output_type": "stream",
     "text": [
      "/home/codespace/.python/current/lib/python3.10/site-packages/pandasai/__init__.py:145: UserWarning: `PandasAI` (class) is deprecated since v1.0 and will be removed in a future release. Please use `SmartDataframe` instead.\n",
      "  warnings.warn(\n",
      "Could not load configuration\n",
      "Traceback (most recent call last):\n",
      "  File \"/home/codespace/.python/current/lib/python3.10/site-packages/pandasai/config.py\", line 19, in load_config\n",
      "    with open(find_closest(\"pandasai.json\"), \"r\") as f:\n",
      "  File \"/home/codespace/.python/current/lib/python3.10/site-packages/pandasai/helpers/path.py\", line 37, in find_closest\n",
      "    return os.path.join(find_project_root(filename), filename)\n",
      "  File \"/home/codespace/.python/current/lib/python3.10/site-packages/pandasai/helpers/path.py\", line 29, in find_project_root\n",
      "    raise ValueError(\"Could not find the root folder of the project.\")\n",
      "ValueError: Could not find the root folder of the project.\n"
     ]
    },
    {
     "ename": "error",
     "evalue": "[Errno 11] Resource temporarily unavailable: '/workspaces/Pandas_AI/cache/cache'",
     "output_type": "error",
     "traceback": [
      "\u001b[0;31m---------------------------------------------------------------------------\u001b[0m",
      "\u001b[0;31merror\u001b[0m                                     Traceback (most recent call last)",
      "Cell \u001b[0;32mIn[4], line 7\u001b[0m\n\u001b[1;32m      4\u001b[0m pandas_ai \u001b[39m=\u001b[39m PandasAI(llm)\n\u001b[1;32m      6\u001b[0m \u001b[39m# Ask a question...\u001b[39;00m\n\u001b[0;32m----> 7\u001b[0m pandas_ai\u001b[39m.\u001b[39;49mrun(df, prompt\u001b[39m=\u001b[39;49m\u001b[39m'\u001b[39;49m\u001b[39mWhat are the 5 happiest countries\u001b[39;49m\u001b[39m'\u001b[39;49m)\n",
      "File \u001b[0;32m~/.python/current/lib/python3.10/site-packages/pandasai/__init__.py:199\u001b[0m, in \u001b[0;36mPandasAI.run\u001b[0;34m(self, data_frame, prompt, show_code, anonymize_df, use_error_correction_framework)\u001b[0m\n\u001b[1;32m    196\u001b[0m \u001b[39mif\u001b[39;00m \u001b[39mnot\u001b[39;00m \u001b[39misinstance\u001b[39m(data_frame, \u001b[39mlist\u001b[39m):\n\u001b[1;32m    197\u001b[0m     data_frame \u001b[39m=\u001b[39m [data_frame]\n\u001b[0;32m--> 199\u001b[0m \u001b[39mself\u001b[39m\u001b[39m.\u001b[39m_dl \u001b[39m=\u001b[39m SmartDatalake(data_frame, config)\n\u001b[1;32m    200\u001b[0m \u001b[39mreturn\u001b[39;00m \u001b[39mself\u001b[39m\u001b[39m.\u001b[39m_dl\u001b[39m.\u001b[39mchat(prompt)\n",
      "File \u001b[0;32m~/.python/current/lib/python3.10/site-packages/pandasai/smart_datalake/__init__.py:99\u001b[0m, in \u001b[0;36mSmartDatalake.__init__\u001b[0;34m(self, dfs, config, logger, memory)\u001b[0m\n\u001b[1;32m     92\u001b[0m \u001b[39mself\u001b[39m\u001b[39m.\u001b[39m_code_manager \u001b[39m=\u001b[39m CodeManager(\n\u001b[1;32m     93\u001b[0m     dfs\u001b[39m=\u001b[39m\u001b[39mself\u001b[39m\u001b[39m.\u001b[39m_dfs,\n\u001b[1;32m     94\u001b[0m     config\u001b[39m=\u001b[39m\u001b[39mself\u001b[39m\u001b[39m.\u001b[39m_config,\n\u001b[1;32m     95\u001b[0m     logger\u001b[39m=\u001b[39m\u001b[39mself\u001b[39m\u001b[39m.\u001b[39m_logger,\n\u001b[1;32m     96\u001b[0m )\n\u001b[1;32m     98\u001b[0m \u001b[39mif\u001b[39;00m \u001b[39mself\u001b[39m\u001b[39m.\u001b[39m_config\u001b[39m.\u001b[39menable_cache:\n\u001b[0;32m---> 99\u001b[0m     \u001b[39mself\u001b[39m\u001b[39m.\u001b[39m_cache \u001b[39m=\u001b[39m Cache()\n",
      "File \u001b[0;32m~/.python/current/lib/python3.10/site-packages/pandasai/helpers/cache.py:26\u001b[0m, in \u001b[0;36mCache.__init__\u001b[0;34m(self, filename)\u001b[0m\n\u001b[1;32m     23\u001b[0m os\u001b[39m.\u001b[39mmakedirs(cache_dir, mode\u001b[39m=\u001b[39m\u001b[39m0o777\u001b[39m, exist_ok\u001b[39m=\u001b[39m\u001b[39mTrue\u001b[39;00m)\n\u001b[1;32m     25\u001b[0m \u001b[39mself\u001b[39m\u001b[39m.\u001b[39mfilepath \u001b[39m=\u001b[39m os\u001b[39m.\u001b[39mpath\u001b[39m.\u001b[39mjoin(cache_dir, filename)\n\u001b[0;32m---> 26\u001b[0m \u001b[39mself\u001b[39m\u001b[39m.\u001b[39mcache \u001b[39m=\u001b[39m shelve\u001b[39m.\u001b[39;49mopen(\u001b[39mself\u001b[39;49m\u001b[39m.\u001b[39;49mfilepath)\n",
      "File \u001b[0;32m~/.python/current/lib/python3.10/shelve.py:243\u001b[0m, in \u001b[0;36mopen\u001b[0;34m(filename, flag, protocol, writeback)\u001b[0m\n\u001b[1;32m    230\u001b[0m \u001b[39mdef\u001b[39;00m \u001b[39mopen\u001b[39m(filename, flag\u001b[39m=\u001b[39m\u001b[39m'\u001b[39m\u001b[39mc\u001b[39m\u001b[39m'\u001b[39m, protocol\u001b[39m=\u001b[39m\u001b[39mNone\u001b[39;00m, writeback\u001b[39m=\u001b[39m\u001b[39mFalse\u001b[39;00m):\n\u001b[1;32m    231\u001b[0m \u001b[39m    \u001b[39m\u001b[39m\"\"\"Open a persistent dictionary for reading and writing.\u001b[39;00m\n\u001b[1;32m    232\u001b[0m \n\u001b[1;32m    233\u001b[0m \u001b[39m    The filename parameter is the base filename for the underlying\u001b[39;00m\n\u001b[0;32m   (...)\u001b[0m\n\u001b[1;32m    240\u001b[0m \u001b[39m    See the module's __doc__ string for an overview of the interface.\u001b[39;00m\n\u001b[1;32m    241\u001b[0m \u001b[39m    \"\"\"\u001b[39;00m\n\u001b[0;32m--> 243\u001b[0m     \u001b[39mreturn\u001b[39;00m DbfilenameShelf(filename, flag, protocol, writeback)\n",
      "File \u001b[0;32m~/.python/current/lib/python3.10/shelve.py:227\u001b[0m, in \u001b[0;36mDbfilenameShelf.__init__\u001b[0;34m(self, filename, flag, protocol, writeback)\u001b[0m\n\u001b[1;32m    225\u001b[0m \u001b[39mdef\u001b[39;00m \u001b[39m__init__\u001b[39m(\u001b[39mself\u001b[39m, filename, flag\u001b[39m=\u001b[39m\u001b[39m'\u001b[39m\u001b[39mc\u001b[39m\u001b[39m'\u001b[39m, protocol\u001b[39m=\u001b[39m\u001b[39mNone\u001b[39;00m, writeback\u001b[39m=\u001b[39m\u001b[39mFalse\u001b[39;00m):\n\u001b[1;32m    226\u001b[0m     \u001b[39mimport\u001b[39;00m \u001b[39mdbm\u001b[39;00m\n\u001b[0;32m--> 227\u001b[0m     Shelf\u001b[39m.\u001b[39m\u001b[39m__init__\u001b[39m(\u001b[39mself\u001b[39m, dbm\u001b[39m.\u001b[39;49mopen(filename, flag), protocol, writeback)\n",
      "File \u001b[0;32m~/.python/current/lib/python3.10/dbm/__init__.py:95\u001b[0m, in \u001b[0;36mopen\u001b[0;34m(file, flag, mode)\u001b[0m\n\u001b[1;32m     93\u001b[0m \u001b[39melse\u001b[39;00m:\n\u001b[1;32m     94\u001b[0m     mod \u001b[39m=\u001b[39m _modules[result]\n\u001b[0;32m---> 95\u001b[0m \u001b[39mreturn\u001b[39;00m mod\u001b[39m.\u001b[39;49mopen(file, flag, mode)\n",
      "\u001b[0;31merror\u001b[0m: [Errno 11] Resource temporarily unavailable: '/workspaces/Pandas_AI/cache/cache'"
     ]
    }
   ],
   "source": [
    "# Set up LLM\n",
    "OPENAI_API_KEY = input(\"Please enter your Open API key: \")\n",
    "llm = OpenAI(api_token=OPENAI_API_KEY)\n",
    "pandas_ai = PandasAI(llm)\n",
    "\n",
    "# Ask a question...\n",
    "pandas_ai.run(df, prompt='What are the 5 happiest countries')"
   ]
  },
  {
   "cell_type": "code",
   "execution_count": null,
   "metadata": {},
   "outputs": [],
   "source": []
  }
 ],
 "metadata": {
  "kernelspec": {
   "display_name": "Python 3",
   "language": "python",
   "name": "python3"
  },
  "language_info": {
   "codemirror_mode": {
    "name": "ipython",
    "version": 3
   },
   "file_extension": ".py",
   "mimetype": "text/x-python",
   "name": "python",
   "nbconvert_exporter": "python",
   "pygments_lexer": "ipython3",
   "version": "3.10.8"
  },
  "orig_nbformat": 4
 },
 "nbformat": 4,
 "nbformat_minor": 2
}
